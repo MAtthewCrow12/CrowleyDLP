{
 "cells": [
  {
   "cell_type": "code",
   "execution_count": 3,
   "metadata": {},
   "outputs": [],
   "source": [
    "#Importing essentials\n",
    "import numpy as np\n",
    "import matplotlib.pyplot as plt\n",
    "import matplotlib.mlab as mlab\n",
    "import pandas as pd\n",
    "import seaborn as sns\n",
    "from sklearn.model_selection import train_test_split\n",
    "from sklearn.preprocessing import StandardScaler\n",
    "from sklearn.ensemble import RandomForestRegressor\n",
    "from scipy.stats import norm\n",
    "from sklearn.model_selection import RandomizedSearchCV\n",
    "from sklearn.preprocessing import normalize\n",
    "\n",
    "# Get current size\n",
    "fig_size = plt.rcParams[\"figure.figsize\"]\n",
    "# Prints: [8.0, 6.0]\n",
    "#print (\"Current size:\", fig_size)\n",
    "# Set figure width to 12 and height to 9\n",
    "fig_size[0] = 15\n",
    "fig_size[1] = 12\n",
    "plt.rcParams[\"figure.figsize\"] = fig_size\n"
   ]
  },
  {
   "cell_type": "code",
   "execution_count": 35,
   "metadata": {},
   "outputs": [],
   "source": [
    "def bindea(z,n):\n",
    "    a=z+n\n",
    "    p1=  15.76   *(a)\n",
    "    p2=  -17.81  *(a**(2./3.))\n",
    "    p3=  -0.711  * (z**2.) * a**(-1./3.)   \n",
    "    p4=  -(23.702*((z-n)**2.))/a\n",
    "\n",
    "    if(z%2 ==0 and n%2==0):\n",
    "    #if(any(z)%2==0 and n%2==0):\n",
    "        p5=34.*(a**(-3./4.))\n",
    "        \n",
    "    elif(z%2 ==1 and n%2==1):    \n",
    "    #elif(any(z)%2==1 and any(n)%2==1):\n",
    "        p5=-34.*(a**(-3./4.))\n",
    "        \n",
    "    else: \n",
    "        p5=0\n",
    "        \n",
    "    be=p1+p2+p3+p4+p5\n",
    "    return be\n"
   ]
  },
  {
   "cell_type": "code",
   "execution_count": 29,
   "metadata": {},
   "outputs": [],
   "source": [
    "def bindingE(Z,N):\n",
    "    A=Z+N\n",
    "    a_v  =15.422\n",
    "    a_s  =16.831\n",
    "    a_c  =0.686\n",
    "    a_a  =26.002\n",
    "    a_as =-18.711\n",
    "    a_p  = 11.199\n",
    "    \n",
    "    if(Z%2 ==0 and N%2==0):\n",
    "    #if(any(Z)%2 ==0 and any(N%2)==0):\n",
    "        n=1\n",
    "    elif(Z%2 ==1 and N%2==1):\n",
    "    #elif(any(Z)%2 ==1 and any(N)%2==1):\n",
    "        n=-1\n",
    "    else:\n",
    "        n=0\n",
    "    \n",
    "    \n",
    "    p_1 = a_v * A\n",
    "    \n",
    "    p_2 = a_s * (A**(2/3))\n",
    "\n",
    "    p_3 = a_c * ( (Z**2)/(A**(1/3)) )\n",
    "    \n",
    "    p_4 = a_a + a_s/(A**(1/3))\n",
    "    \n",
    "    p_5 = ((A-(2*Z))**2)/A\n",
    "    \n",
    "    p_6 = a_p*n/(A**(1/2))\n",
    "    \n",
    "    \n",
    "    \n",
    "    B= p_1- p_2- p_3- p_4 * p_5 - p_6\n",
    "    \n",
    "    return B\n",
    "    \n",
    "    "
   ]
  },
  {
   "cell_type": "code",
   "execution_count": 39,
   "metadata": {},
   "outputs": [
    {
     "name": "stdout",
     "output_type": "stream",
     "text": [
      "20,20:  338.01766568018473\n",
      "20,21:  351.84740931386847\n",
      "20,22:  360.75276970610275 \n",
      "\n",
      "20,20:  338.01766568018473\n",
      "20,23:  371.793941288666\n",
      "20,24:  378.1939288214757 \n",
      "\n",
      "20,20:  341.0715486854025\n",
      "20,21:  351.34000024164874\n",
      "20,22:  364.71196336191315 \n",
      "\n",
      "20,20:  341.0715486854025\n",
      "20,23:  372.9444455458018\n",
      "20,24:  384.28020421422974\n"
     ]
    }
   ],
   "source": [
    "#20  20  -342.033529\n",
    "#21  20  -350.396355\n",
    "#22  20  -361.877055\n",
    "\n",
    "\n",
    "print(\"20,20: \", bindingE(20,20))\n",
    "print(\"20,21: \", bindingE(20,21))\n",
    "print(\"20,22: \", bindingE(20,22), '\\n')\n",
    "\n",
    "print(\"20,20: \", bindea(20,20))\n",
    "print(\"20,21: \", bindea(20,21))\n",
    "print(\"20,22: \", bindea(20,22),   '\\n')\n",
    "\n",
    "\n",
    "print(\"20,20: \", bindingE(20,20))\n",
    "print(\"20,23: \", bindingE(20,23))\n",
    "print(\"20,24: \", bindingE(20,24), '\\n')\n",
    "\n",
    "print(\"20,20: \", bindea(20,20))\n",
    "print(\"20,23: \", bindea(20,23))\n",
    "print(\"20,24: \", bindea(20,24))\n"
   ]
  },
  {
   "cell_type": "code",
   "execution_count": 5,
   "metadata": {},
   "outputs": [],
   "source": [
    "\n",
    "def pair(Z, N):\n",
    "    zParity = Z % 2\n",
    "    nParity = N % 2\n",
    "    if any(zParity) == 0 and any(nParity) == 0:\n",
    "        return 1\n",
    "    elif any(zParity) != 0 and any(nParity) != 0:\n",
    "        return -1\n",
    "    else:\n",
    "        return 0\n",
    "\n",
    "def bindea_alt(Z, N):\n",
    "    A=Z+N\n",
    "    \n",
    "    volume = 15.75 * A\n",
    "    surface = -17.8 * A ** (2 / 3)\n",
    "    coulomb = -0.711 * Z ** 2 / A ** (1 / 3)\n",
    "    asymmetric = -23.7 * (A - 2 * Z) ** 2 / A\n",
    "    pairing = 11.18 * pair(Z, N) / A ** 0.5\n",
    "    return volume + surface + coulomb + asymmetric + pairing\n"
   ]
  },
  {
   "cell_type": "markdown",
   "metadata": {},
   "source": [
    "# Between 40^Ca and 120^U, data set: 2667"
   ]
  },
  {
   "cell_type": "code",
   "execution_count": 23,
   "metadata": {
    "scrolled": false
   },
   "outputs": [
    {
     "name": "stderr",
     "output_type": "stream",
     "text": [
      "No handles with labels found to put in legend.\n"
     ]
    },
    {
     "name": "stdout",
     "output_type": "stream",
     "text": [
      "(2667,)\n"
     ]
    },
    {
     "data": {
      "image/png": "[encoded data removed]",
      "text/plain": [
       "<Figure size 1080x864 with 1 Axes>"
      ]
     },
     "metadata": {
      "needs_background": "light"
     },
     "output_type": "display_data"
    }
   ],
   "source": [
    "y_the=[]\n",
    "N_exp = np.genfromtxt('EXPERIMENT_AME2016.dat',usecols=3)#, skip_header=350, skip_footer=3433-2953) #Number of neutrons\n",
    "Z_exp = np.genfromtxt('EXPERIMENT_AME2016.dat',usecols=4)#, skip_header=350, skip_footer=3433-2953) #Number of protons\n",
    "X_exp = np.transpose(np.stack((Z_exp,N_exp)))\n",
    "A_exp = N_exp+Z_exp # Total number of Nucleons\n",
    "\n",
    "# Difference between the experimental binding energy and the Liquid drop model\n",
    "y_exp = -np.genfromtxt('EXPERIMENT_AME2016.dat',usecols=5)#, skip_header=350, skip_footer=3433-2953)\n",
    "y_the=bindingE(Z_exp,N_exp)\n",
    "the_exp_diff=y_the-y_exp\n",
    "\n",
    "ZN_exp=np.transpose(np.stack((Z_exp, N_exp, the_exp_diff, y_exp, y_the)))\n",
    "Z_aug=[]\n",
    "N_aug=[]\n",
    "\n",
    "the_exp_diff_aug=[]\n",
    "\n",
    "y_exp_aug=[]\n",
    "y_the_aug=[]\n",
    "\n",
    "for ZN_i in ZN_exp:\n",
    "    if (ZN_i[0]>=20) and (ZN_i[0]<=92):\n",
    "        if (ZN_i[1]>=20) and (ZN_i[1]<=240-92):\n",
    "            #if (ZN_i[0]+ZN_i[1]>40) and (ZN_i[0]+ZN_i[1]<240):\n",
    "            Z_aug.append(ZN_i[0])\n",
    "            N_aug.append(ZN_i[1])\n",
    "            the_exp_diff_aug.append(ZN_i[2])\n",
    "            y_exp_aug.append(ZN_i[3])\n",
    "            y_the_aug.append(ZN_i[4])\n",
    "        \n",
    "\n",
    "        \n",
    "print(np.shape(Z_aug))\n",
    "        \n",
    "plt.title('Data sets')\n",
    "plt.plot(N_aug, Z_aug,  'x', markersize=2, label=\"_aug\")\n",
    "#plt.plot(N_exp, Z_exp,  'x', markersize=2, label=\"_exp\")\n",
    "plt.plot(240-92, 92,  'o',   markersize=5, label=\"_aug\")\n",
    "plt.plot(40-20, 20,  'o',   markersize=5, label=\"_aug\")\n",
    "\n",
    "plt.xlabel('Neutron Number')\n",
    "plt.ylabel('Protron Number')\n",
    "plt.legend()\n",
    "plt.grid(True)\n",
    "plt.show()\n",
    "\n",
    "\n"
   ]
  },
  {
   "cell_type": "code",
   "execution_count": 25,
   "metadata": {},
   "outputs": [
    {
     "name": "stdout",
     "output_type": "stream",
     "text": [
      "whole:  38.06400889774502 \n",
      "\n",
      "augmented:  36.576137188124505\n",
      "trained:    36.63980564317585\n",
      "test:       36.35721927635217\n"
     ]
    }
   ],
   "source": [
    "def ki(exp_the):\n",
    "    ki_2=0\n",
    "    \n",
    "    for exp_the_i in exp_the:\n",
    "        ki_2=ki_2+(exp_the_i[0]-exp_the_i[1])**2\n",
    "\n",
    "    return np.sqrt(ki_2/(len(exp_the)+1))\n",
    "\n",
    "\n",
    "\n",
    "\n",
    "y_exp_the=np.transpose(np.stack((y_exp,y_the)))\n",
    "\n",
    "print(\"whole: \", ki(y_exp_the),\"\\n\")\n",
    "\n",
    "\n",
    "\n",
    "y_exp_the_aug=np.transpose(np.stack((y_exp_aug, y_the_aug)))\n",
    "\n",
    "\n",
    "y_train, y_test = train_test_split( y_exp_the_aug, test_size =0.25, random_state=42 )\n",
    "\n",
    "\n",
    "print(\"augmented: \", ki(y_exp_the_aug))\n",
    "print(\"trained:   \", ki(y_train))\n",
    "print(\"test:      \", ki(y_test))"
   ]
  },
  {
   "cell_type": "markdown",
   "metadata": {},
   "source": [
    "# Region Z>20, Z<50, data set: 1978"
   ]
  },
  {
   "cell_type": "code",
   "execution_count": 26,
   "metadata": {},
   "outputs": [
    {
     "name": "stderr",
     "output_type": "stream",
     "text": [
      "No handles with labels found to put in legend.\n"
     ]
    },
    {
     "name": "stdout",
     "output_type": "stream",
     "text": [
      "Z_aug shape: (3656,)\n"
     ]
    },
    {
     "data": {
      "image/png": "[encoded data removed]",
      "text/plain": [
       "<Figure size 1080x864 with 1 Axes>"
      ]
     },
     "metadata": {
      "needs_background": "light"
     },
     "output_type": "display_data"
    }
   ],
   "source": [
    "\n",
    "for ZN_i in ZN_exp:\n",
    "    if (ZN_i[0]>20) and (ZN_i[0]<50):\n",
    "        #if (ZN_i[1]>=20) and (ZN_i[1]<=240-92):\n",
    "            #if (ZN_i[0]+ZN_i[1]>40) and (ZN_i[0]+ZN_i[1]<240):\n",
    "            Z_aug.append(ZN_i[0])\n",
    "            N_aug.append(ZN_i[1])\n",
    "            the_exp_diff_aug.append(ZN_i[2])\n",
    "            y_exp_aug.append(ZN_i[3])\n",
    "            y_the_aug.append(ZN_i[4])\n",
    "        \n",
    "\n",
    "        \n",
    "print(\"Z_aug shape:\", np.shape(Z_aug))\n",
    "        \n",
    "plt.title('Data sets')\n",
    "plt.plot(N_aug, Z_aug,  'x', markersize=2, label=\"_aug\")\n",
    "#plt.plot(N_exp, Z_exp,  'x', markersize=2, label=\"_exp\")\n",
    "plt.plot(240-92, 92,  'o',   markersize=5, label=\"_aug\")\n",
    "plt.plot(40-20, 20,  'o',   markersize=5, label=\"_aug\")\n",
    "\n",
    "plt.xlabel('Neutron Number')\n",
    "plt.ylabel('Protron Number')\n",
    "plt.legend()\n",
    "plt.grid(True)\n",
    "plt.show()\n"
   ]
  },
  {
   "cell_type": "code",
   "execution_count": 27,
   "metadata": {},
   "outputs": [
    {
     "name": "stdout",
     "output_type": "stream",
     "text": [
      "augmented:  38.06400889774502 \n",
      "\n",
      "augmented:  34.766180466487015\n",
      "trained:    34.5202684106117\n",
      "test:       35.474557240568835\n"
     ]
    }
   ],
   "source": [
    "\n",
    "y_exp_the=np.transpose(np.stack((y_exp,y_the)))\n",
    "\n",
    "print(\"augmented: \", ki(y_exp_the),\"\\n\")\n",
    "\n",
    "\n",
    "\n",
    "y_exp_the_aug=np.transpose(np.stack((y_exp_aug, y_the_aug)))\n",
    "\n",
    "\n",
    "y_train, y_test = train_test_split( y_exp_the_aug, test_size =0.25, random_state=42 )\n",
    "\n",
    "\n",
    "print(\"augmented: \", ki(y_exp_the_aug))\n",
    "print(\"trained:   \", ki(y_train))\n",
    "print(\"test:      \", ki(y_test))"
   ]
  },
  {
   "cell_type": "code",
   "execution_count": null,
   "metadata": {},
   "outputs": [],
   "source": []
  }
 ],
 "metadata": {
  "kernelspec": {
   "display_name": "Python 3",
   "language": "python",
   "name": "python3"
  },
  "language_info": {
   "codemirror_mode": {
    "name": "ipython",
    "version": 3
   },
   "file_extension": ".py",
   "mimetype": "text/x-python",
   "name": "python",
   "nbconvert_exporter": "python",
   "pygments_lexer": "ipython3",
   "version": "3.7.3"
  }
 },
 "nbformat": 4,
 "nbformat_minor": 2
}
