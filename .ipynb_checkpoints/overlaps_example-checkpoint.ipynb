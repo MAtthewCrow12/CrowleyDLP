{
 "cells": [
  {
   "cell_type": "markdown",
   "metadata": {},
   "source": [
    "# Example for calculating the overlap of two histograms"
   ]
  },
  {
   "cell_type": "markdown",
   "metadata": {},
   "source": [
    "## First we create two samples of random numbers coming from a certain distribution"
   ]
  },
  {
   "cell_type": "code",
   "execution_count": 1,
   "metadata": {},
   "outputs": [],
   "source": [
    "from scipy import stats\n",
    "import numpy as np\n",
    "import matplotlib.pyplot as plt"
   ]
  },
  {
   "cell_type": "markdown",
   "metadata": {},
   "source": [
    "We will define 2 random samples coming from 2 different distributions and with different sample size"
   ]
  },
  {
   "cell_type": "code",
   "execution_count": 2,
   "metadata": {},
   "outputs": [],
   "source": [
    "sample_1 = np.random.normal(34,8, 1000)\n",
    "sample_2 = np.random.chisquare(50,500)"
   ]
  },
  {
   "cell_type": "code",
   "execution_count": 3,
   "metadata": {},
   "outputs": [
    {
     "data": {
      "image/png": "[encoded data removed]",
      "text/plain": [
       "<Figure size 432x288 with 1 Axes>"
      ]
     },
     "metadata": {
      "needs_background": "light"
     },
     "output_type": "display_data"
    }
   ],
   "source": [
    "plt.hist(sample_1, alpha=0.5, density=True)\n",
    "plt.hist(sample_2, alpha=0.5, density=True)\n",
    "plt.show()"
   ]
  },
  {
   "cell_type": "markdown",
   "metadata": {},
   "source": [
    "Our goal will be to come up with a measure of how much does this two distributions overlap"
   ]
  },
  {
   "cell_type": "markdown",
   "metadata": {},
   "source": [
    "## Creating probability densitiy functions\n",
    "\n",
    "We can use KDE's (Kernel Density Estimate) to get a function that approximates the probability distribtution function of each histogram"
   ]
  },
  {
   "cell_type": "code",
   "execution_count": 4,
   "metadata": {},
   "outputs": [],
   "source": [
    "pdf_1 = stats.gaussian_kde(sample_1)\n",
    "pdf_2 = stats.gaussian_kde(sample_2)"
   ]
  },
  {
   "cell_type": "markdown",
   "metadata": {},
   "source": [
    "`pdf_1` and `pdf_1` are **functions** that can be evaluated at any point"
   ]
  },
  {
   "cell_type": "code",
   "execution_count": 5,
   "metadata": {},
   "outputs": [
    {
     "name": "stdout",
     "output_type": "stream",
     "text": [
      "[6.57602096e-05] [0.03473959] [0.01740047]\n"
     ]
    }
   ],
   "source": [
    "print(pdf_1(4.5), pdf_1(40.0), pdf_2(62.3))"
   ]
  },
  {
   "cell_type": "code",
   "execution_count": 6,
   "metadata": {},
   "outputs": [
    {
     "data": {
      "image/png": "[encoded data removed]",
      "text/plain": [
       "<Figure size 432x288 with 1 Axes>"
      ]
     },
     "metadata": {
      "needs_background": "light"
     },
     "output_type": "display_data"
    }
   ],
   "source": [
    "x = np.linspace(0, 100, 1000)\n",
    "plt.hist(sample_1, alpha=0.5, density=True)\n",
    "plt.hist(sample_2, alpha=0.5, density=True)\n",
    "plt.plot(x, pdf_1(x), color='C0')\n",
    "plt.plot(x, pdf_2(x), color='C1')\n",
    "plt.show()"
   ]
  },
  {
   "cell_type": "markdown",
   "metadata": {},
   "source": [
    "Now that `pdf_1` and `pdf_2` are functions we can integrate them with `scipy.integrate.quad`"
   ]
  },
  {
   "cell_type": "code",
   "execution_count": 7,
   "metadata": {},
   "outputs": [],
   "source": [
    "import scipy.integrate as integrate"
   ]
  },
  {
   "cell_type": "code",
   "execution_count": 8,
   "metadata": {},
   "outputs": [
    {
     "name": "stdout",
     "output_type": "stream",
     "text": [
      "1.0\n",
      "1.0000000000000004\n"
     ]
    }
   ],
   "source": [
    "result = integrate.quad(lambda x: pdf_1(x),  -np.inf,  np.inf)\n",
    "print(result[0])\n",
    "result = integrate.quad(lambda x: pdf_2(x),  -np.inf,  np.inf)\n",
    "print(result[0])"
   ]
  },
  {
   "cell_type": "markdown",
   "metadata": {},
   "source": [
    "These functions generated by `scipy.stats.gaussian_kde` are already normilized so that\n",
    "$$ \\int f_{\\rm kde} (x) dx = 1.$$\n",
    "\n",
    "However, so that we can measure an overlap we need to normalize the **square** of the function (the way it is done for wavefunctions in quantum mechanics) so that\n",
    "$$ \\int f^2_{\\rm kde} (x) dx = 1.$$\n",
    "\n",
    "Now we can define the overlap as\n",
    "$$ \\int f_{\\rm kde} (x) g_{\\rm kde} (x) dx$$"
   ]
  },
  {
   "cell_type": "markdown",
   "metadata": {},
   "source": [
    "## Defining function that calculates the overlap of two functions"
   ]
  },
  {
   "cell_type": "code",
   "execution_count": 9,
   "metadata": {},
   "outputs": [],
   "source": [
    "def overlap(f1, f2):\n",
    "    # First we need to calaculate the normalization constants\n",
    "    n1 = integrate.quad(lambda x: f1(x)**2,  -np.inf,  np.inf)[0]\n",
    "    n2 = integrate.quad(lambda x: f2(x)**2,  -np.inf,  np.inf)[0]\n",
    "    # Normalizing these functions (the quantum mechanis way) means doing the replacement f(x) -> f(x)/sqrt(N)\n",
    "    # So we calculate the integral of the product and divide by sqrt(N1*N2)\n",
    "    return integrate.quad(lambda x: f1(x)*f2(x),  -np.inf,  np.inf)[0]/np.sqrt(n1*n2)"
   ]
  },
  {
   "cell_type": "markdown",
   "metadata": {},
   "source": [
    "### Testing the function by calculating the overlap of a function with itself"
   ]
  },
  {
   "cell_type": "code",
   "execution_count": 10,
   "metadata": {},
   "outputs": [
    {
     "name": "stdout",
     "output_type": "stream",
     "text": [
      "1.0\n",
      "1.0\n"
     ]
    }
   ],
   "source": [
    "print(overlap(pdf_1, pdf_1))\n",
    "print(overlap(pdf_2, pdf_2))"
   ]
  },
  {
   "cell_type": "markdown",
   "metadata": {},
   "source": [
    "### Calculating the overlap of our two kde approximated functions"
   ]
  },
  {
   "cell_type": "code",
   "execution_count": 11,
   "metadata": {},
   "outputs": [
    {
     "name": "stdout",
     "output_type": "stream",
     "text": [
      "0.4563447147614239\n"
     ]
    }
   ],
   "source": [
    "print(overlap(pdf_1, pdf_2))"
   ]
  },
  {
   "cell_type": "markdown",
   "metadata": {},
   "source": [
    "### Making sure that our new overlap operator commutes"
   ]
  },
  {
   "cell_type": "code",
   "execution_count": null,
   "metadata": {},
   "outputs": [],
   "source": [
    "print(overlap(pdf_2, pdf_1))"
   ]
  },
  {
   "cell_type": "markdown",
   "metadata": {},
   "source": [
    "## Based on our current examples we can define a function that takes two samples and calculates their overlaps"
   ]
  },
  {
   "cell_type": "code",
   "execution_count": null,
   "metadata": {},
   "outputs": [],
   "source": [
    "def sample_overlap(x1, x2):\n",
    "    # x1 is a numpy array representing the first sample\n",
    "    # x2 is a numpy array representing the second sample\n",
    "    pdf1 = stats.gaussian_kde(x1)\n",
    "    pdf2 = stats.gaussian_kde(x2)\n",
    "    # We rely on the overlap function we defined earlier\n",
    "    return overlap(pdf1, pdf2)"
   ]
  },
  {
   "cell_type": "markdown",
   "metadata": {},
   "source": [
    "Just to confirm that our new function works we test it with the samples we already created and compare results"
   ]
  },
  {
   "cell_type": "code",
   "execution_count": null,
   "metadata": {},
   "outputs": [],
   "source": [
    "# Here we are using the function that takes functions as arguments\n",
    "print(overlap(pdf_2, pdf_1))\n",
    "# Here we are using the function that takes samples as arguments\n",
    "print( sample_overlap(sample_1, sample_2))"
   ]
  },
  {
   "cell_type": "markdown",
   "metadata": {},
   "source": [
    "## For convinience lets also define a function that plots 2 samples and their KDE's"
   ]
  },
  {
   "cell_type": "code",
   "execution_count": null,
   "metadata": {},
   "outputs": [],
   "source": [
    "def samples_hist_kde_plot(x1, x2):\n",
    "    #Finding the minimum and maximum among all elements in both samples\n",
    "    x_min = min(np.amin(x1), np.amin(x2))\n",
    "    x_max = max(np.amax(x1), np.amax(x2))\n",
    "    # Shifting the minimum a little bit to the left\n",
    "    x_min -= np.abs(x_min)*.1\n",
    "    # Shifting the maximum a little bit to the right\n",
    "    x_max += np.abs(x_max)*.1\n",
    "    # Using those min and max to create an array where the KDE's will be evaluated for plotting\n",
    "    x = np.linspace(x_min, x_max, 1000)\n",
    "    pdf1 = stats.gaussian_kde(x1)\n",
    "    pdf2 = stats.gaussian_kde(x2)\n",
    "    plt.hist(x1, alpha=0.5, density=True)\n",
    "    plt.hist(x2, alpha=0.5, density=True)\n",
    "    plt.plot(x, pdf1(x), color='C0')\n",
    "    plt.plot(x, pdf2(x), color='C1')\n",
    "    plt.show()"
   ]
  },
  {
   "cell_type": "markdown",
   "metadata": {},
   "source": [
    "Testing with our current samples"
   ]
  },
  {
   "cell_type": "code",
   "execution_count": null,
   "metadata": {},
   "outputs": [],
   "source": [
    "samples_hist_kde_plot(sample_1, sample_2)"
   ]
  },
  {
   "cell_type": "markdown",
   "metadata": {},
   "source": [
    "## Now we can try other sampes\n",
    "## Two samples from gaussian distributions that do not overlap"
   ]
  },
  {
   "cell_type": "code",
   "execution_count": null,
   "metadata": {},
   "outputs": [],
   "source": [
    "sample_3 = np.random.normal(64,4, 1000)\n",
    "sample_4 = np.random.normal(10,5, 300)\n",
    "#Notice the different sample sizes\n",
    "samples_hist_kde_plot(sample_3, sample_4)\n",
    "print('Samples overlap is: {}'.format(sample_overlap(sample_3, sample_4)))"
   ]
  },
  {
   "cell_type": "markdown",
   "metadata": {},
   "source": [
    "## Two samples from gaussian distributions that mostly overlap"
   ]
  },
  {
   "cell_type": "code",
   "execution_count": null,
   "metadata": {},
   "outputs": [],
   "source": [
    "sample_5 = np.random.normal(64,4, 1000)\n",
    "sample_6 = np.random.normal(61,5, 3000)\n",
    "#Notice the different sample sizes\n",
    "samples_hist_kde_plot(sample_5, sample_6)\n",
    "print('Samples overlap is: {}'.format(sample_overlap(sample_5, sample_6)))"
   ]
  },
  {
   "cell_type": "markdown",
   "metadata": {},
   "source": [
    "## Final note\n",
    "This is different from the other measure we discussed that calculates the area under where both functions overlap. But that could in principle be defined in a similar fashion. However the the normalization constant and the overlap integral would have to be defined differently.\n",
    "\n",
    "In fact, here the functions are already normizalized. All that would have to be different is the overlap integral. Not taking the product but the minimum of both fucntions at every value of x"
   ]
  }
 ],
 "metadata": {
  "kernelspec": {
   "display_name": "Python 3",
   "language": "python",
   "name": "python3"
  },
  "language_info": {
   "codemirror_mode": {
    "name": "ipython",
    "version": 3
   },
   "file_extension": ".py",
   "mimetype": "text/x-python",
   "name": "python",
   "nbconvert_exporter": "python",
   "pygments_lexer": "ipython3",
   "version": "3.7.3"
  }
 },
 "nbformat": 4,
 "nbformat_minor": 2
}
