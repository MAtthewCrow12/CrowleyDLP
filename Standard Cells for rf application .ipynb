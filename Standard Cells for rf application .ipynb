{
 "cells": [
  {
   "cell_type": "markdown",
   "metadata": {},
   "source": [
    "functions:\n",
    "rf application:  \n",
    "    \n",
    "    rf fitting         func: to fit matching experimental and theoretical data. Calls match data function, ki_2 function          \n",
    "    match data         func: Finds where experimental and theoretical data matches.     \n",
    "      \n",
    "    non match data     func: Finds all nucleons with theoretical values but not experimental    \n",
    "    \n",
    "    rf.predict train   func: predict ml component for train  \n",
    "    \n",
    "    rf.predict test    func: predict ml component for test  \n",
    "    \n",
    "    rf.predict all mat func: predict ml component for all matching data set  \n",
    "    \n",
    "    rf.predict non mat func: predict ml component for all non matching data set  \n",
    "    \n",
    "    ki_2               func: Finds the ki square of the the training, testing, matching data sets with and without ml component.\n",
    "    \n",
    "    \n",
    "    \n",
    "\n",
    "variance examination:\n",
    "    Variance func: call rf_fitting\n",
    "    call rf fitting func with \n",
    "mean/median/std func: find the mean/median/std of the matching and the non matching data set Seperatly.\n",
    "\n"
   ]
  },
  {
   "cell_type": "code",
   "execution_count": null,
   "metadata": {},
   "outputs": [],
   "source": [
    "def train_test_split(rf_v, f_A, f_B):\n",
    "    #passing all experimental and theoretical data sets to the method\n",
    "    #feat_A and feat_B shall coresspond to the coloumn in X that the rf is trained on\n",
    "    \n",
    "    \n",
    "    rf_v=RandomForestRegressor(n_estimators=1000)\n",
    "    \n",
    "    \n",
    "    \n",
    "    print(rf_v.predict(data))\n",
    "           #, y_mat_exp, y_mat_the, y_nomat_the, y_exp, y_the):\n",
    "    "
   ]
  },
  {
   "cell_type": "code",
   "execution_count": null,
   "metadata": {},
   "outputs": [],
   "source": [
    "def match_data(exper, theor):\n",
    "    \n",
    "    \n",
    "    \n",
    "    \n"
   ]
  },
  {
   "cell_type": "code",
   "execution_count": null,
   "metadata": {},
   "outputs": [],
   "source": [
    "#MAIN\n",
    "\n",
    "\n",
    "mat_nuc=the_match_data(exper, theor) #List of Z,N pairs that have BOTH EXP and THE\n",
    "\n",
    "for i in range(0, len(mat_nuc)):\n",
    "    diff_mat                         = y_exp_d[mat_nuc[0],mat_nuc[1]] - y_the_d[mat_nuc[0],mat_nuc[1]] #list of mat diff\n",
    "    \n",
    "    diff_mat_d[mat_nuc[0],mat_nuc[1]]= y_exp_d[mat_nuc[0],mat_nuc[1]] - y_the_d[mat_nuc[0],mat_nuc[1]] #dictionary of mat diff\n",
    "\n",
    "    \n",
    "rf_application()\n",
    "\n",
    "    \n",
    "    "
   ]
  },
  {
   "cell_type": "markdown",
   "metadata": {},
   "source": [
    "# CLEANING UP"
   ]
  },
  {
   "cell_type": "code",
   "execution_count": 6,
   "metadata": {},
   "outputs": [],
   "source": [
    "#Importing essentials\n",
    "import numpy as np\n",
    "import matplotlib.pyplot as plt\n",
    "import matplotlib.mlab as mlab\n",
    "import pandas as pd\n",
    "import seaborn as sns\n",
    "from sklearn.model_selection import train_test_split\n",
    "from sklearn.preprocessing import StandardScaler\n",
    "from sklearn.ensemble import RandomForestRegressor\n",
    "from scipy.stats import norm\n",
    "from sklearn.model_selection import RandomizedSearchCV\n",
    "from sklearn.preprocessing import normalize"
   ]
  },
  {
   "cell_type": "code",
   "execution_count": 7,
   "metadata": {},
   "outputs": [],
   "source": [
    "# Get current size\n",
    "fig_size = plt.rcParams[\"figure.figsize\"]\n",
    "# Prints: [8.0, 6.0]\n",
    "#print (\"Current size:\", fig_size)\n",
    "# Set figure width to 12 and height to 9\n",
    "fig_size[0] = 15\n",
    "fig_size[1] = 12\n",
    "plt.rcParams[\"figure.figsize\"] = fig_size"
   ]
  },
  {
   "cell_type": "markdown",
   "metadata": {},
   "source": [
    "# INPUTING EXPERIMENTAL and THEORETICAL"
   ]
  },
  {
   "cell_type": "code",
   "execution_count": 13,
   "metadata": {},
   "outputs": [],
   "source": [
    "#importing from experimental file\n",
    "# Num Nuc  A   N   Z        E        E/A     dE     Eval    S1n     dS1n  Eval    \n",
    "# 0   1    2   3   4        5        6       7      8       9       10    11\n",
    "#S1p     dS1p  Eval    S2n     dS2n  Eval    S2p     dS2p  Eval\n",
    "#12      13    14      15      16    17      18      19    20\n",
    "N_exp    = np.genfromtxt('EXPERIMENT_AME2016.dat',usecols=3, skip_header=350) #Number of neutrons\n",
    "Z_exp    = np.genfromtxt('EXPERIMENT_AME2016.dat',usecols=4, skip_header=350) #Number of protons\n",
    "A_exp    = N_exp+Z_exp                                                        #Total number of Nucleons\n",
    "# Difference between the experimental binding energy and the Liquid drop model\n",
    "y_exp    = -np.genfromtxt('EXPERIMENT_AME2016.dat',usecols=5, skip_header=350)\n",
    "\n",
    "S_p_exp  = -np.genfromtxt('EXPERIMENT_AME2016.dat',usecols=12, skip_header=350)\n",
    "S_2p_exp = -np.genfromtxt('EXPERIMENT_AME2016.dat',usecols=18, skip_header=350)\n",
    "\n",
    "S_n_exp  =-np.genfromtxt('EXPERIMENT_AME2016.dat',usecols=9, skip_header=350)\n",
    "S_2n_exp =-np.genfromtxt('EXPERIMENT_AME2016.dat',usecols=15, skip_header=350)\n",
    "\n",
    "\n",
    "#SKMS importing relevent data\n",
    "#Symbol Z  N A Binding_Energy_(MeV)  S_p_(MeV)  S_{2p}_(MeV) S_n_(MeV)  S_{2n}_(MeV) Q_{alpha}_(MeV)       \n",
    "#0      1  2 3 4                     5          6            7          8            9\n",
    "Z_SKMS    = np.genfromtxt('SKMS_all_nuclei-new.dat',usecols=1, skip_header=347) #Number of protons\n",
    "N_SKMS    = np.genfromtxt('SKMS_all_nuclei-new.dat',usecols=2, skip_header=347) #Number of neutrons\n",
    "A_SKMS    = N_SKMS+Z_SKMS                                                       #Total number of Nucleons\n",
    "\n",
    "y_SKMS    = -np.genfromtxt('SKMS_all_nuclei-new.dat',usecols=4, skip_header=347)\n",
    "Q_SKMS    = -np.genfromtxt('SKMS_all_nuclei-new.dat',usecols=9, skip_header=347)\n",
    "\n",
    "S_p_SKMS  = -np.genfromtxt('SKMS_all_nuclei-new.dat',usecols=5, skip_header=347)\n",
    "S_2p_SKMS = -np.genfromtxt('SKMS_all_nuclei-new.dat',usecols=6, skip_header=347)\n",
    "\n",
    "S_n_SKMS  = -np.genfromtxt('SKMS_all_nuclei-new.dat',usecols=7, skip_header=347)\n",
    "S_2n_SKMS = -np.genfromtxt('SKMS_all_nuclei-new.dat',usecols=8, skip_header=347)\n",
    "\n",
    "#END OF DATA INPUT\n",
    "\n",
    "\n",
    "ZN_exp   = np.transpose(np.stack((Z_exp,N_exp)))\n",
    "ZN_SKMS  = np.transpose(np.stack((Z_SKMS,N_SKMS)))\n",
    "\n",
    "\n",
    "X_exp       = np.transpose(np.stack((Z_exp,   N_exp,   A_exp,   y_exp,   S_p_exp,   S_n_exp,   S_2p_exp,   S_2n_exp)))\n",
    "X_SKMS      = np.transpose(np.stack((Z_SKMS,  N_SKMS,  A_SKMS,  y_SKMS,  S_p_SKMS,  S_n_SKMS<  S_2p_SKMS,  S_2n_SKMS)))\n",
    "\n",
    "\n",
    "\n",
    "\n",
    "y_exp_d     ={}\n",
    "\n",
    "S_n_exp_d   ={}\n",
    "S_2n_exp_d  ={}\n",
    "\n",
    "S_p_exp_d   ={}\n",
    "S_2p_exp_d  ={}\n",
    "\n",
    "\n",
    "for i in range(0,len(N_exp)):\n",
    "    y_exp_d[     Z_exp[i],   N_exp[i]]=  y_exp[i]\n",
    "    \n",
    "    S_n_exp_d[   Z_exp[i],   N_exp[i]]=  S_n_exp[i]\n",
    "    S_2n_exp_d[  Z_exp[i],   N_exp[i]]=  S_2n_exp[i]\n",
    "    \n",
    "    S_p_exp_d[   Z_exp[i],   N_exp[i]]=  S_p_exp[i]\n",
    "    S_2p_exp_d[  Z_exp[i],   N_exp[i]]=  S_2p_exp[i]\n",
    "\n",
    "    \n",
    "\n",
    "y_SKMS_d    ={}\n",
    "\n",
    "S_n_SKMS_d  ={}\n",
    "S_2n_SKMS_d ={}\n",
    "\n",
    "S_p_SKMS_d  ={}\n",
    "S_2p_SKMS_d ={}\n",
    "\n",
    "Q_SKMS_d    ={}\n",
    "\n",
    "for i in range(0,len(X_SKMS)):\n",
    "    y_SKMS_d[    Z_SKMS[i], N_SKMS[i]]=y_SKMS[i]\n",
    "    \n",
    "    S_n_SKMS_d[  Z_SKMS[i], N_SKMS[i]]=S_n_SKMS[i]\n",
    "    S_2n_SKMS_d[ Z_SKMS[i], N_SKMS[i]]=S_2n_SKMS[i]\n",
    "    \n",
    "    S_p_SKMS_d[  Z_SKMS[i], N_SKMS[i]]=S_p_SKMS[i]\n",
    "    S_2p_SKMS_d[ Z_SKMS[i], N_SKMS[i]]=S_2p_SKMS[i]\n",
    "    \n",
    "    Q_SKMS_d[    Z_SKMS[i], N_SKMS[i]]=Q_SKMS[i]\n",
    "    \n"
   ]
  },
  {
   "cell_type": "markdown",
   "metadata": {},
   "source": [
    "# FINDING MATCHING DATA SET"
   ]
  },
  {
   "cell_type": "code",
   "execution_count": null,
   "metadata": {},
   "outputs": [],
   "source": [
    "Z_mat        =[]\n",
    "N_mat        =[]\n",
    "\n",
    "y_matexp     =[]\n",
    "y_matexp_d   ={}\n",
    "\n",
    "y_matSKMS    =[]\n",
    "y_matSKMS_d  ={}\n",
    "\n",
    "#Q_matexp     =[] #No Q exp values\n",
    "#Q_matexp_d   ={}\n",
    "\n",
    "Q_matSKMS    =[]\n",
    "Q_matSKMS_d  ={}\n",
    "\n",
    "diff_mat     =[]\n",
    "diff_mat_d   ={}\n",
    "\n",
    "Q_matexp     =[]\n",
    "Q_matexp_d   ={}\n",
    "\n",
    "Q_matSKMS    =[]\n",
    "Q_matSKMS_d  ={}\n",
    "\n",
    "#IMPROVING\n",
    "for n in range(0, len(N_exp)+1):\n",
    "    for z in range(0, len(Z_exp)+1):\n",
    "        try:\n",
    "            #Checking that there is y_exp AND y_SKMS\n",
    "            \n",
    "            test    =y_exp_d[z,n]\n",
    "            test    =y_SKMS_d[z,n]\n",
    "            \n",
    "            diff_mat.append(y_exp_d[z,n]-y_SKMS_d[z,n])\n",
    "            \n",
    "            #Q_matexp.append(Q_exp_d[z,n]) No Experimental Q Value\n",
    "            Q_matSKMS.append(Q_SKMS_d[z,n])\n",
    "            \n",
    "            N_mat.append(n)\n",
    "            Z_mat.append(z)\n",
    "            \n",
    "            diff_mat_d[z,n]    =y_exp_d[z,n]-y_SKMS_d[z,n]\n",
    "            \n",
    "            y_matexp.append(y_exp_d[z,n])\n",
    "            y_matSKMS.append(y_SKMS_d[z,n])\n",
    "            \n",
    "            y_matexp_d[z,n]    =y_exp_d[z,n]\n",
    "            y_matSKMS_d[z,n]   =y_SKMS_d[z,n]\n",
    "            \n",
    "            #Q_matexp_d[z,n]    =Q_exp_d[z,n] No Experimental Q Value\n",
    "            Q_matSKMS.append(Q_SKMS_d[z,n])\n",
    "            #Q_matSKMS_d[z,n]   =Q_SKMS_d[z,n]\n",
    "            \n",
    "            \n",
    "        except KeyError:\n",
    "            continue"
   ]
  },
  {
   "cell_type": "code",
   "execution_count": 74,
   "metadata": {},
   "outputs": [],
   "source": [
    "Z_mat        =[]\n",
    "N_mat        =[]\n",
    "\n",
    "y_matexp     =[]\n",
    "y_matexp_d   ={}\n",
    "\n",
    "y_matSKMS    =[]\n",
    "y_matSKMS_d  ={}\n",
    "\n",
    "#Q_matexp     =[] #No Q exp values\n",
    "#Q_matexp_d   ={}\n",
    "\n",
    "Q_matSKMS    =[]\n",
    "Q_matSKMS_d  ={}\n",
    "\n",
    "diff_mat     =[]\n",
    "diff_mat_d   ={}\n",
    "\n",
    "for ZN_i in ZN_exp:\n",
    "    try:\n",
    "        #Checking that there is y_exp AND y_SKMS\n",
    "        test    =y_exp_d[ZN_i[0],ZN_i[1]]\n",
    "        test    =y_SKMS_d[ZN_i[0],ZN_i[1]]\n",
    "        \n",
    "        \n",
    "        diff_mat.append(y_exp_d[ZN_i[0],ZN_i[1]]-y_SKMS_d[ZN_i[0],ZN_i[1]])\n",
    "        Z_mat.append(ZN_i[0])\n",
    "        N_mat.append(ZN_i[1])\n",
    "\n",
    "        y_matexp.append(y_exp_d[ ZN_i[0],ZN_i[1] ])\n",
    "        y_matexp_d[ZN_i[0],ZN_i[1]]    =y_exp_d[ZN_i[0],ZN_i[1]]\n",
    "        \n",
    "        y_matSKMS.append(y_SKMS_d[ ZN_i[0],ZN_i[1] ])\n",
    "        y_matSKMS_d[ZN_i[0],ZN_i[1]]   =y_SKMS_d[ZN_i[0],ZN_i[1]]\n",
    "        \n",
    "        \n",
    "        Q_matSKMS.append(Q_SKMS_d[ZN_i[0],ZN_i[1]])\n",
    "        Q_matSKMS_d[ZN_i[0],ZN_i[1]]   =Q_SKMS_d[ZN_i[0],ZN_i[1]]\n",
    "    except KeyError:\n",
    "        continue\n",
    "            \n",
    "            "
   ]
  },
  {
   "cell_type": "markdown",
   "metadata": {},
   "source": [
    "# FINDING NO MATCH DATA SET"
   ]
  },
  {
   "cell_type": "code",
   "execution_count": 100,
   "metadata": {},
   "outputs": [
    {
     "name": "stdout",
     "output_type": "stream",
     "text": [
      "(2968, 2)\n",
      "(5385, 2)\n",
      "[20. 14.]\n",
      "[20. 39.]\n"
     ]
    }
   ],
   "source": [
    "N_nomat=[]\n",
    "Z_nomat=[]\n",
    "\n",
    "\n",
    "y_nomatSKMS=[]\n",
    "Q_nomatSKMS=[]\n",
    "\n",
    "S_n_nomat=[]\n",
    "S_p_nomat=[]\n",
    "\n",
    "for ZN_i in ZN_SKMS:\n",
    "    try:\n",
    "        test=y_exp_d[ZN_i[0], ZN_i[1]]\n",
    "        \n",
    "    except KeyError:        \n",
    "        try:\n",
    "            test=y_SKMS_d[ZN_i[0],ZN_i[1]]   #Testing that their is a theoretical value for this nucleon\n",
    "                    \n",
    "            Z_nomat.append(ZN_i[0])\n",
    "            N_nomat.append(ZN_i[1])\n",
    "                    \n",
    "            y_nomatSKMS.append(y_SKMS_d[ZN_i[0],ZN_i[1]])\n",
    "            Q_nomatSKMS.append(Q_SKMS_d[ZN_i[0],ZN_i[1]])\n",
    "                    \n",
    "            S_n_nomatSKMS.append(S_n_SKMS_d[ZN_i[0],ZN_i[1]])\n",
    "            S_p_nomatSKMS.append(S_p_SKMS_d[ZN_i[0],ZN_i[1]])\n",
    "            \n",
    "        except KeyError:\n",
    "            continue\n",
    "            \n",
    "    continue\n",
    "                \n",
    "                    \n",
    "ZN_mat=np.transpose(np.stack((Z_mat,N_mat)))                         \n",
    "ZN_nomat=np.transpose(np.stack((Z_nomat,N_nomat)))     \n",
    "                    \n",
    "print(np.shape(ZN_mat))\n",
    "print(np.shape(ZN_nomat))\n",
    "print(ZN_mat[0])\n",
    "print(ZN_nomat[0])"
   ]
  },
  {
   "cell_type": "markdown",
   "metadata": {},
   "source": [
    "# Checking Shapes"
   ]
  },
  {
   "cell_type": "code",
   "execution_count": 99,
   "metadata": {
    "scrolled": false
   },
   "outputs": [
    {
     "name": "stdout",
     "output_type": "stream",
     "text": [
      "n exp shape (3083,)\n",
      "z exp shape (3083,)\n",
      "y exp shape (3083,) \n",
      "\n",
      "n SKMS shape (8353,)\n",
      "z SKMS shape (8353,)\n",
      "y SKMS shape (8353,)\n",
      "Q SKMS shape (8353,) \n",
      "\n",
      "n mat shape (2968,)\n",
      "z mat shape (2968,)\n",
      "y mat exp  shape (2968,)\n",
      "y mat SKMS shape (2968,)\n",
      "Q mat SKMS shape (2968,) \n",
      "\n",
      "n nomat shape (5385,)\n",
      "z nomat shape (5385,)\n",
      "y nomat SKMS shape (5385,)\n",
      "Q_nomatSKMS (5385,) \n",
      "\n"
     ]
    }
   ],
   "source": [
    "               \n",
    "print(\"n exp shape\", np.shape(N_exp))\n",
    "print(\"z exp shape\", np.shape(Z_exp))\n",
    "print(\"y exp shape\", np.shape(y_exp), \"\\n\")\n",
    "\n",
    "print(\"n SKMS shape\", np.shape(N_SKMS))\n",
    "print(\"z SKMS shape\", np.shape(Z_SKMS))\n",
    "print(\"y SKMS shape\", np.shape(y_SKMS))\n",
    "print(\"Q SKMS shape\", np.shape(Q_SKMS), \"\\n\")\n",
    "\n",
    "\n",
    "print(\"n mat shape\", np.shape(N_mat))\n",
    "print(\"z mat shape\", np.shape(Z_mat))\n",
    "print(\"y mat exp  shape\", np.shape(y_matexp))\n",
    "print(\"y mat SKMS shape\", np.shape(y_matSKMS))\n",
    "print(\"Q mat SKMS shape\", np.shape(Q_matSKMS), \"\\n\")\n",
    "\n",
    "\n",
    "\n",
    "print(\"n nomat shape\", np.shape(N_nomat))\n",
    "print(\"z nomat shape\", np.shape(Z_nomat))\n",
    "print(\"y nomat SKMS shape\", np.shape(y_nomatSKMS))\n",
    "print(\"Q_nomatSKMS\", np.shape(Q_nomatSKMS), \"\\n\")\n"
   ]
  },
  {
   "cell_type": "code",
   "execution_count": 101,
   "metadata": {},
   "outputs": [
    {
     "data": {
      "image/png": "[encoded data removed]",
      "text/plain": [
       "<Figure size 1080x864 with 1 Axes>"
      ]
     },
     "metadata": {
      "needs_background": "light"
     },
     "output_type": "display_data"
    }
   ],
   "source": [
    "plt.title('Data sets')\n",
    "plt.plot(N_mat, Z_mat,  'x', markersize=2, label='mat')\n",
    "#plt.plot(N_exp, Z_exp,  'x', markersize=2, label='exp')\n",
    "#plt.plot(N_SKMS, Z_SKMS, 'x', markersize=2, label='SKMS')\n",
    "plt.plot(N_nomatSKMS,  Z_nomatSKMS, 'o', markersize=2, label='no mat')\n",
    "#plt.plot(N_mat,Z_mat,'o', markersize=2)\n",
    "plt.xlabel('Neutron Number')\n",
    "plt.ylabel('Protron Number')\n",
    "plt.legend()\n",
    "plt.grid(True)\n",
    "plt.show()\n",
    "\n",
    "         "
   ]
  },
  {
   "cell_type": "markdown",
   "metadata": {},
   "source": [
    "# random forest feature sets"
   ]
  },
  {
   "cell_type": "markdown",
   "metadata": {},
   "source": [
    "## ZN"
   ]
  },
  {
   "cell_type": "code",
   "execution_count": 34,
   "metadata": {},
   "outputs": [
    {
     "name": "stdout",
     "output_type": "stream",
     "text": [
      "ZN_mat shape: (2968, 2)\n",
      "diff mat: (2968,) \n",
      "\n",
      "ZN_nomat shape: (5385, 2)\n",
      "ZN_SKMS  shape: (8353, 2) \n",
      "\n",
      "ZN_train (2226, 2)\n",
      "ZN_test (742, 2)\n"
     ]
    }
   ],
   "source": [
    "ZN_mat=np.transpose(np.stack((Z_mat,N_mat)))\n",
    "ZN_mat=np.array(ZN_mat)\n",
    "\n",
    "ZN_nomat=np.transpose(np.stack((Z_nomat,N_nomat)))\n",
    "ZN_nomat=np.array(ZN_nomat)\n",
    "\n",
    "ZN_SKMS=np.transpose(np.stack((Z_SKMS,N_SKMS)))\n",
    "ZN_SKMS=np.array(ZN_SKMS)\n",
    "\n",
    "\n",
    "print(\"ZN_mat shape:\", np.shape(ZN_mat))\n",
    "print(\"diff mat:\", np.shape(diff_mat), \"\\n\")\n",
    "\n",
    "\n",
    "print(\"ZN_nomat shape:\", np.shape(ZN_nomat))\n",
    "print(\"ZN_SKMS  shape:\", np.shape(ZN_SKMS), \"\\n\")\n",
    "\n",
    "ZN_train, ZN_test, y_ZN_train, y_ZN_test = train_test_split(ZN_mat, diff_mat, test_size =0.25, random_state=42 )\n",
    "\n",
    "print(\"ZN_train\", np.shape(ZN_train))\n",
    "print(\"ZN_test\", np.shape(ZN_test  ))\n"
   ]
  },
  {
   "cell_type": "markdown",
   "metadata": {},
   "source": [
    "## ZQ"
   ]
  },
  {
   "cell_type": "code",
   "execution_count": 104,
   "metadata": {},
   "outputs": [
    {
     "name": "stdout",
     "output_type": "stream",
     "text": [
      "(2968,)\n",
      "(2968,)\n",
      "ZQ_mat shape: (2968, 2)\n",
      "diff mat: (2968,) \n",
      "\n",
      "ZQ_nomat shape: (5385, 2)\n",
      "ZQ_SKMS  shape: (8353, 2) \n",
      "\n",
      "ZQ_train (2226, 2)\n",
      "ZQ_test (742, 2)\n"
     ]
    }
   ],
   "source": [
    "print(np.shape(Z_mat))\n",
    "print(np.shape(Q_matSKMS))\n",
    "\n",
    "\n",
    "ZQ_mat=np.transpose(np.stack((Z_mat,Q_matSKMS)))\n",
    "ZQ_mat=np.array(ZQ_mat)\n",
    "\n",
    "ZQ_nomat=np.transpose(np.stack((Z_nomat,Q_nomatSKMS)))\n",
    "ZQ_nomat=np.array(ZQ_nomat)\n",
    "\n",
    "ZQ_SKMS=np.transpose(np.stack((Z_SKMS,Q_SKMS)))\n",
    "ZQ_SKMS=np.array(ZQ_SKMS)\n",
    "\n",
    "print(\"ZQ_mat shape:\", np.shape(ZQ_mat))\n",
    "print(\"diff mat:\", np.shape(diff_mat), \"\\n\")\n",
    "\n",
    "\n",
    "print(\"ZQ_nomat shape:\", np.shape(ZQ_nomat))\n",
    "print(\"ZQ_SKMS  shape:\", np.shape(ZQ_SKMS), \"\\n\")\n",
    "\n",
    "ZQ_train, ZQ_test, y_ZQ_train, y_ZQ_test = train_test_split(ZQ_mat, diff_mat, test_size =0.25, random_state=42 )\n",
    "\n",
    "print(\"ZQ_train\", np.shape(ZQ_train))\n",
    "print(\"ZQ_test\", np.shape(ZQ_test  ))\n"
   ]
  },
  {
   "cell_type": "markdown",
   "metadata": {},
   "source": [
    "## NQ"
   ]
  },
  {
   "cell_type": "code",
   "execution_count": 105,
   "metadata": {},
   "outputs": [
    {
     "name": "stdout",
     "output_type": "stream",
     "text": [
      "(2968,)\n",
      "(2968,)\n",
      "NQ_mat shape: (2968, 2)\n",
      "diff mat: (2968,) \n",
      "\n",
      "NQ_nomat shape: (5385, 2)\n",
      "NQ_SKMS  shape: (8353, 2) \n",
      "\n",
      "NQ_train (2226, 2)\n",
      "NQ_test (742, 2)\n"
     ]
    }
   ],
   "source": [
    "print(np.shape(N_mat))\n",
    "print(np.shape(Q_matSKMS))\n",
    "\n",
    "\n",
    "NQ_mat=np.transpose(np.stack((N_mat,Q_matSKMS)))\n",
    "NQ_mat=np.array(NQ_mat)\n",
    "\n",
    "NQ_nomat=np.transpose(np.stack((N_nomat,Q_nomatSKMS)))\n",
    "NQ_nomat=np.array(NQ_nomat)\n",
    "\n",
    "NQ_SKMS=np.transpose(np.stack((N_SKMS,Q_SKMS)))\n",
    "NQ_SKMS=np.array(NQ_SKMS)\n",
    "\n",
    "print(\"NQ_mat shape:\", np.shape(NQ_mat))\n",
    "print(\"diff mat:\", np.shape(diff_mat), \"\\n\")\n",
    "\n",
    "\n",
    "print(\"NQ_nomat shape:\", np.shape(NQ_nomat))\n",
    "print(\"NQ_SKMS  shape:\", np.shape(NQ_SKMS), \"\\n\")\n",
    "\n",
    "NQ_train, NQ_test, y_NQ_train, y_NQ_test = train_test_split(NQ_mat, diff_mat, test_size =0.25, random_state=42 )\n",
    "\n",
    "print(\"NQ_train\", np.shape(NQ_train))\n",
    "print(\"NQ_test\", np.shape(NQ_test  ))\n"
   ]
  },
  {
   "cell_type": "markdown",
   "metadata": {},
   "source": [
    "## NZQ"
   ]
  },
  {
   "cell_type": "markdown",
   "metadata": {},
   "source": []
  }
 ],
 "metadata": {
  "kernelspec": {
   "display_name": "Python 3",
   "language": "python",
   "name": "python3"
  },
  "language_info": {
   "codemirror_mode": {
    "name": "ipython",
    "version": 3
   },
   "file_extension": ".py",
   "mimetype": "text/x-python",
   "name": "python",
   "nbconvert_exporter": "python",
   "pygments_lexer": "ipython3",
   "version": "3.7.3"
  }
 },
 "nbformat": 4,
 "nbformat_minor": 2
}
