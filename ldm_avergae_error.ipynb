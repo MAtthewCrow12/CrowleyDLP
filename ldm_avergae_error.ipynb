{
 "cells": [
  {
   "cell_type": "markdown",
   "metadata": {},
   "source": [
    "# Liquid drop model average error"
   ]
  },
  {
   "cell_type": "code",
   "execution_count": 1,
   "metadata": {},
   "outputs": [],
   "source": [
    "import numpy as np"
   ]
  },
  {
   "cell_type": "markdown",
   "metadata": {},
   "source": [
    "## Defining the semi-empirical mass formula"
   ]
  },
  {
   "cell_type": "code",
   "execution_count": 2,
   "metadata": {},
   "outputs": [],
   "source": [
    "def ldm_binding(Z,N):\n",
    "    a_volume = 15.422\n",
    "    a_surface = 16.831\n",
    "    a_coulomb = 0.686\n",
    "    a_asymmetry = 26.002\n",
    "    a_asymm_surface = -18.711\n",
    "    a_paring = 11.199\n",
    "    A = float(Z + N)\n",
    "    eta = 0\n",
    "    if(Z%2 == 0 and N%2 == 0):\n",
    "        eta =  1 \n",
    "    if(Z%2 == 1 and N%2 == 1):\n",
    "        eta = -1\n",
    "    volume = a_volume*A\n",
    "    surface = -a_surface*(A**(2./3.))\n",
    "    coulomb = -a_coulomb*(Z**2/(A**(1./3.)))\n",
    "    asymmetry = -(a_asymmetry + a_asymm_surface/(A**(1./3.)))*(A-2*Z)**2/A\n",
    "    pairing = -a_paring*eta/(A**(1./2.))\n",
    "    return volume + surface + coulomb + asymmetry + pairing"
   ]
  },
  {
   "cell_type": "markdown",
   "metadata": {},
   "source": [
    "## Reading Experimental Data"
   ]
  },
  {
   "cell_type": "code",
   "execution_count": 3,
   "metadata": {},
   "outputs": [
    {
     "name": "stdout",
     "output_type": "stream",
     "text": [
      "3433\n"
     ]
    }
   ],
   "source": [
    "exp_energies = np.loadtxt('EXPERIMENT_AME2016.dat',usecols=(3,4,5))\n",
    "print(len(exp_energies))"
   ]
  },
  {
   "cell_type": "markdown",
   "metadata": {},
   "source": [
    "### Only nuclei between Z = 20 (Ca) and Z = 92 (U)"
   ]
  },
  {
   "cell_type": "code",
   "execution_count": 4,
   "metadata": {},
   "outputs": [
    {
     "name": "stdout",
     "output_type": "stream",
     "text": [
      "2667\n"
     ]
    }
   ],
   "source": [
    "exp_range = exp_energies[np.where(exp_energies[:,1] >= 20)] #remove all nuclei with Z < 20\n",
    "exp_range = exp_range[np.where(exp_range[:,1] <= 92 )] #remove all nuclei with Z > 92\n",
    "exp_range = exp_range[np.where(exp_range[:,0] >= 20 )] #remove all nuclei with N < 20\n",
    "exp_range = exp_range[np.where(exp_range[:,0] <= 240-92 )] #remove all nuclei with N > 240-92\n",
    "#remove all nuclei with Z < 20print(len(exp_range))\n"
   ]
  },
  {
   "cell_type": "code",
   "execution_count": 5,
   "metadata": {},
   "outputs": [],
   "source": [
    "def sigma_error(exp_energies):\n",
    "    difference = np.zeros(len(exp_energies))\n",
    "    for i, nucleus in enumerate(exp_energies):\n",
    "        N = nucleus[0]\n",
    "        Z = nucleus[1]\n",
    "        exp_be = -nucleus[2]\n",
    "        theo_be = ldm_binding(Z,N)\n",
    "        difference[i] = (exp_be - theo_be)**2\n",
    "    sigma_square = np.average(difference)\n",
    "    return np.sqrt(sigma_square)"
   ]
  },
  {
   "cell_type": "code",
   "execution_count": 6,
   "metadata": {},
   "outputs": [
    {
     "name": "stdout",
     "output_type": "stream",
     "text": [
      "sigma_pre for all nuclei:  3.9737323941829747\n"
     ]
    }
   ],
   "source": [
    "print('sigma_pre for all nuclei: ', sigma_error(exp_energies))"
   ]
  },
  {
   "cell_type": "code",
   "execution_count": 7,
   "metadata": {},
   "outputs": [
    {
     "name": "stdout",
     "output_type": "stream",
     "text": [
      "sigma_pre for nuclei between 40Ca and 240U:  3.3604441201790873\n"
     ]
    }
   ],
   "source": [
    "print('sigma_pre for nuclei between 40Ca and 240U: ', sigma_error(exp_range))"
   ]
  }
 ],
 "metadata": {
  "kernelspec": {
   "display_name": "Python 3",
   "language": "python",
   "name": "python3"
  },
  "language_info": {
   "codemirror_mode": {
    "name": "ipython",
    "version": 3
   },
   "file_extension": ".py",
   "mimetype": "text/x-python",
   "name": "python",
   "nbconvert_exporter": "python",
   "pygments_lexer": "ipython3",
   "version": "3.7.3"
  }
 },
 "nbformat": 4,
 "nbformat_minor": 2
}
